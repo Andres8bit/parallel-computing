{
  "nbformat": 4,
  "nbformat_minor": 0,
  "metadata": {
    "colab": {
      "name": "Bezier_curve.ipynb",
      "provenance": [],
      "collapsed_sections": [],
      "authorship_tag": "ABX9TyMhDriLeWJtJNuvw2QLXc0A",
      "include_colab_link": true
    },
    "kernelspec": {
      "name": "python3",
      "display_name": "Python 3"
    }
  },
  "cells": [
    {
      "cell_type": "markdown",
      "metadata": {
        "id": "view-in-github",
        "colab_type": "text"
      },
      "source": [
        "<a href=\"https://colab.research.google.com/github/Andres8bit/parallel-computing/blob/main/Bezier_curve.ipynb\" target=\"_parent\"><img src=\"https://colab.research.google.com/assets/colab-badge.svg\" alt=\"Open In Colab\"/></a>"
      ]
    },
    {
      "cell_type": "code",
      "metadata": {
        "colab": {
          "base_uri": "https://localhost:8080/"
        },
        "id": "P7k2U1t1O6U7",
        "outputId": "62c90a77-40f7-43b7-ed44-279c2e5c4e2b"
      },
      "source": [
        "!pip install git+git://github.com/andreinechaev/nvcc4jupyter.git"
      ],
      "execution_count": 2,
      "outputs": [
        {
          "output_type": "stream",
          "text": [
            "Collecting git+git://github.com/andreinechaev/nvcc4jupyter.git\n",
            "  Cloning git://github.com/andreinechaev/nvcc4jupyter.git to /tmp/pip-req-build-mu2iozq8\n",
            "  Running command git clone -q git://github.com/andreinechaev/nvcc4jupyter.git /tmp/pip-req-build-mu2iozq8\n",
            "Building wheels for collected packages: NVCCPlugin\n",
            "  Building wheel for NVCCPlugin (setup.py) ... \u001b[?25l\u001b[?25hdone\n",
            "  Created wheel for NVCCPlugin: filename=NVCCPlugin-0.0.2-cp36-none-any.whl size=4308 sha256=b0ee1ad8af52126a3d2418da40d47f73a89d4defb72b6e96d8bdf74311208fd7\n",
            "  Stored in directory: /tmp/pip-ephem-wheel-cache-o2p3mfc2/wheels/10/c2/05/ca241da37bff77d60d31a9174f988109c61ba989e4d4650516\n",
            "Successfully built NVCCPlugin\n",
            "Installing collected packages: NVCCPlugin\n",
            "Successfully installed NVCCPlugin-0.0.2\n"
          ],
          "name": "stdout"
        }
      ]
    },
    {
      "cell_type": "code",
      "metadata": {
        "colab": {
          "base_uri": "https://localhost:8080/"
        },
        "id": "BjywdnR-PKac",
        "outputId": "94e47cf9-baf2-42e7-d954-5f0f8c28fe61"
      },
      "source": [
        "%load_ext nvcc_plugin"
      ],
      "execution_count": 3,
      "outputs": [
        {
          "output_type": "stream",
          "text": [
            "created output directory at /content/src\n",
            "Out bin /content/result.out\n"
          ],
          "name": "stdout"
        }
      ]
    },
    {
      "cell_type": "markdown",
      "metadata": {
        "id": "B9Hi0HL2XGGl"
      },
      "source": [
        "Bezier Curves:\r\n",
        "    A Bezier curve is defined by a set of points P0 -> Pn where n\r\n",
        "   denotes the order of the curve i.e n = 1 denotes linear, n =2 denotes\r\n",
        "   quadratic ect.\r\n",
        "   They are often used in computer graphics to draw smooth curves."
      ]
    },
    {
      "cell_type": "code",
      "metadata": {
        "colab": {
          "base_uri": "https://localhost:8080/"
        },
        "id": "uwcS-hPpPPpL",
        "outputId": "7ea4688e-6bdf-446c-8fdd-838c1ea0adb8"
      },
      "source": [
        "%%cu\r\n",
        "#include <iostream>\r\n",
        "#include <stdio.h>\r\n",
        "\r\n",
        "#define MAX_TESS_POINTS 32\r\n",
        "#define N_LINES 256\r\n",
        "#define BLOCK_DIM 32\r\n",
        "\r\n",
        "struct BezierLine{\r\n",
        "    float2 control_points[3];\r\n",
        "    float2 *vertex_pos;\r\n",
        "    int n_vertices;    \r\n",
        "};\r\n",
        "\r\n",
        "__forceinline__ __device__ float2 operator + (float2 a,float2 b){\r\n",
        "  float2 c;\r\n",
        "  c.x = a.x + b.x;\r\n",
        "  c.y = a.y + b.y;\r\n",
        "  \r\n",
        "  return c;  \r\n",
        "}\r\n",
        "\r\n",
        "__forceinline__ __device__ float2 operator - (float2 a,float2 b){\r\n",
        "    float2 c;\r\n",
        "    c.x = a.x - b.x;\r\n",
        "    c.y = a.y - b.y;\r\n",
        "    \r\n",
        "    return c; \r\n",
        "}\r\n",
        "\r\n",
        "__forceinline__ __device__ float2 operator * (float2 a,float2 b){\r\n",
        "    float2 c;\r\n",
        "    c.x = a.x * b.x;\r\n",
        "    c.y = a.y * b.y;\r\n",
        "    \r\n",
        "    return c;\r\n",
        "}\r\n",
        "\r\n",
        "__forceinline__ __device__ float length(float2 a){\r\n",
        "    return sqrtf(a.x * a.x + a.y*a.y);\r\n",
        "}\r\n",
        "\r\n",
        "__device__ float compute_curvature(BezierLine *b_lines){\r\n",
        "    int block_id = blockIdx.x;\r\n",
        "    float curvature = length(b_lines[block_id].control_points[1] - \r\n",
        "                      (b_lines[block_id].control_points[0] + \r\n",
        "                      b_lines[block_id].control_points[2]))/\r\n",
        "                      length(b_lines[block_id].control_points[2] - \r\n",
        "                             b_lines[block_id].control_points[0]);\r\n",
        "    return curvature; \r\n",
        "}\r\n",
        "\r\n",
        "void init(BezierLine *b_lines){\r\n",
        "    float2 last = {0,0};\r\n",
        "\r\n",
        "    for (int i = 0; i < N_LINES; i++){\r\n",
        "        b_lines[i].control_points[0] = last;\r\n",
        "        for (int j = 1; j < 3; j++){\r\n",
        "            b_lines[i].control_points[j].x = (float)rand() / (float)RAND_MAX;\r\n",
        "            b_lines[i].control_points[j].y = (float)rand() / (float) RAND_MAX;\r\n",
        "        }\r\n",
        "        last = b_lines[i].control_points[2];\r\n",
        "        b_lines[i].n_vertices = 0;\r\n",
        "    }\r\n",
        "}\r\n",
        "\r\n",
        "__global__ void compute_bezier_child(int line_id,BezierLine* b_lines,int n_tess_points){\r\n",
        "    int idx = threadIdx.x + blockDim.x * blockIdx.x;\r\n",
        "\r\n",
        "    if (idx < n_tess_points){\r\n",
        "        float u = (float)idx/(float)(n_tess_points - 1);\r\n",
        "        float omu = 1.0f - u;\r\n",
        "        float quad_coef[3];\r\n",
        "        quad_coef[0] = omu*omu;\r\n",
        "        quad_coef[1] = 2.0f * u * omu;\r\n",
        "        quad_coef[2] = u*u;\r\n",
        "        float2 pos = {0,0};\r\n",
        "        float2 coef = {0,0};\r\n",
        "\r\n",
        "        for (int i = 0; i < 3; i++){\r\n",
        "            coef = {quad_coef[i],quad_coef[i]};\r\n",
        "            pos = pos + coef * b_lines[line_id].control_points[i];\r\n",
        "        }\r\n",
        "        b_lines[line_id].vertex_pos[idx] = pos;\r\n",
        "      }\r\n",
        "}\r\n",
        "\r\n",
        "__global__ void compute_bezier_parent(BezierLine *b_lines, int n_lines){\r\n",
        "    cudaStream_t stream;\r\n",
        "    cudaStreamCreateWithFlags(&stream,cudaStreamNonBlocking);\r\n",
        "\r\n",
        "    int line_id = threadIdx.x + blockDim.x * blockIdx.x;\r\n",
        "\r\n",
        "    if (line_id < n_lines){\r\n",
        "        float curvature = compute_curvature(b_lines);\r\n",
        "        int n_tess_points = min(max((int)(curvature*16.0f),4),32);\r\n",
        "        b_lines[line_id].n_vertices = n_tess_points;\r\n",
        "        cudaMalloc((void**) &b_lines[line_id].vertex_pos,\r\n",
        "                   b_lines[line_id].n_vertices * sizeof(float2));\r\n",
        "        \r\n",
        "        compute_bezier_child<<<ceil((float)b_lines[line_id].n_vertices/32.0f),32,0,stream>>>\r\n",
        "                            (line_id,b_lines,b_lines[line_id].n_vertices);\r\n",
        "    } \r\n",
        "}\r\n",
        "\r\n",
        "__global__ void free_vertex_mem(BezierLine *b_lines,int n_lines){\r\n",
        "    int line_id = threadIdx.x + blockDim.x * blockIdx.x;\r\n",
        "    if (line_id < n_lines)\r\n",
        "        cudaFree(b_lines[line_id].vertex_pos);\r\n",
        "}\r\n",
        "\r\n",
        "int main(){\r\n",
        "    BezierLine *host_bezier = new BezierLine[N_LINES];\r\n",
        "    BezierLine *device_bezier;    \r\n",
        "    init(host_bezier);\r\n",
        "\r\n",
        "    cudaMalloc((void **)&device_bezier,N_LINES * sizeof(BezierLine));\r\n",
        "    cudaMemcpy(device_bezier,host_bezier,N_LINES * sizeof(BezierLine),cudaMemcpyHostToDevice);\r\n",
        "\r\n",
        "    compute_bezier_parent<<<ceil((float)N_LINES/(float)BLOCK_DIM), BLOCK_DIM>>>(device_bezier,N_LINES);\r\n",
        "\r\n",
        "    free_vertex_mem<<<ceil((float)N_LINES/(float)BLOCK_DIM),BLOCK_DIM>>>(device_bezier,N_LINES);\r\n",
        "\r\n",
        "    delete[] host_bezier;\r\n",
        "\r\n",
        "    return 0;\r\n",
        "}"
      ],
      "execution_count": 19,
      "outputs": [
        {
          "output_type": "stream",
          "text": [
            "/tmp/tmpz1ryro77/4fe7dacf-2a0c-45e3-b961-6e20d53fac35.cu(100): error: calling a __global__ function(\"compute_bezier_child\") from a __global__ function(\"compute_bezier_parent\") is only allowed on the compute_35 architecture or above\n",
            "\n",
            "1 error detected in the compilation of \"/tmp/tmpxft_00000318_00000000-8_4fe7dacf-2a0c-45e3-b961-6e20d53fac35.cpp1.ii\".\n",
            "\n"
          ],
          "name": "stdout"
        }
      ]
    }
  ]
}
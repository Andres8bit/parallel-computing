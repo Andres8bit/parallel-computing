{
  "nbformat": 4,
  "nbformat_minor": 0,
  "metadata": {
    "colab": {
      "name": "Brent_Kung_Scan.ipynb",
      "provenance": [],
      "collapsed_sections": [],
      "authorship_tag": "ABX9TyP/+UM/Id5MJUubzIt4BBoy",
      "include_colab_link": true
    },
    "kernelspec": {
      "name": "python3",
      "display_name": "Python 3"
    },
    "accelerator": "GPU"
  },
  "cells": [
    {
      "cell_type": "markdown",
      "metadata": {
        "id": "view-in-github",
        "colab_type": "text"
      },
      "source": [
        "<a href=\"https://colab.research.google.com/github/Andres8bit/parallel-computing/blob/main/Brent_Kung_Scan.ipynb\" target=\"_parent\"><img src=\"https://colab.research.google.com/assets/colab-badge.svg\" alt=\"Open In Colab\"/></a>"
      ]
    },
    {
      "cell_type": "code",
      "metadata": {
        "colab": {
          "base_uri": "https://localhost:8080/"
        },
        "id": "Q0mJph99ZJUM",
        "outputId": "49e4bca5-9d3c-4d71-b739-19a4cd715f9e"
      },
      "source": [
        "!pip install git+git://github.com/andreinechaev/nvcc4jupyter.git"
      ],
      "execution_count": 1,
      "outputs": [
        {
          "output_type": "stream",
          "text": [
            "Collecting git+git://github.com/andreinechaev/nvcc4jupyter.git\n",
            "  Cloning git://github.com/andreinechaev/nvcc4jupyter.git to /tmp/pip-req-build-zncof1k3\n",
            "  Running command git clone -q git://github.com/andreinechaev/nvcc4jupyter.git /tmp/pip-req-build-zncof1k3\n",
            "Building wheels for collected packages: NVCCPlugin\n",
            "  Building wheel for NVCCPlugin (setup.py) ... \u001b[?25l\u001b[?25hdone\n",
            "  Created wheel for NVCCPlugin: filename=NVCCPlugin-0.0.2-cp36-none-any.whl size=4308 sha256=7ab346368e4feff177816a61496f253c0a738a8d22470ec04c64e970665b46d2\n",
            "  Stored in directory: /tmp/pip-ephem-wheel-cache-dix1x8m7/wheels/10/c2/05/ca241da37bff77d60d31a9174f988109c61ba989e4d4650516\n",
            "Successfully built NVCCPlugin\n",
            "Installing collected packages: NVCCPlugin\n",
            "Successfully installed NVCCPlugin-0.0.2\n"
          ],
          "name": "stdout"
        }
      ]
    },
    {
      "cell_type": "code",
      "metadata": {
        "colab": {
          "base_uri": "https://localhost:8080/"
        },
        "id": "-_qze17ai4TT",
        "outputId": "51c2feab-502f-4cf5-f49f-649573622f18"
      },
      "source": [
        "%load_ext nvcc_plugin"
      ],
      "execution_count": 2,
      "outputs": [
        {
          "output_type": "stream",
          "text": [
            "created output directory at /content/src\n",
            "Out bin /content/result.out\n"
          ],
          "name": "stdout"
        }
      ]
    },
    {
      "cell_type": "code",
      "metadata": {
        "colab": {
          "base_uri": "https://localhost:8080/"
        },
        "id": "15fmt3U0i-Ah",
        "outputId": "0467ea31-f15f-46a0-9b66-a79c6773c2c6"
      },
      "source": [
        "# Implements Brent-Kung (BK) paralle scan.\r\n",
        "# Unlike Kogge-Stone (KS) BK uses a reduction tree inorder to generate N sums in\r\n",
        "# logN time.\r\n",
        "# The first phase computes N-1 total computations. Setting up intermediary \r\n",
        "# values for the second phase of computation.\r\n",
        "# The second phase uses a reverse tree inorder to distrupte the intermediary values,\r\n",
        "# to terms that still require futher additions.\r\n",
        "# The secret to this algorithm is how ittakes advantage of more a much complex \r\n",
        "# indexing, inorder to minimize the overall computations required.\r\n",
        "#\r\n",
        "# 1st for loop in the kernel : \r\n",
        "#         uses the indexing scheme: (threadIdx.x + 1) * 2 * stride - 1, at \r\n",
        "#         the begining of each loop inorder to reduce to ensure the correct \r\n",
        "#         intermediary values are summed by each thread within a block. The only \r\n",
        "#         required check being to ensure that no thread is indexing outside of  \r\n",
        "#         its alloted section.(n-1) total operations\r\n",
        "\r\n",
        "# 2nd for loop in kernel:\r\n",
        "#         implements reverse tree to prudce final sum calcualtions.Using the \r\n",
        "#         the same indexing scheme as in the first loop. (N-1 logN)\r\n",
        "#      \r\n",
        "# Total Operations: 2N-2logN \r\n",
        "%%cu\r\n",
        "#include <iostream>\r\n",
        "#define SECTION_SIZE 8\r\n",
        "\r\n",
        "\r\n",
        "__global__ void brent_kung_scan_kernel(float* input,float* output,int input_size);\r\n",
        "void print_array(float *array, int width);\r\n",
        "\r\n",
        "int main(){\r\n",
        "    \r\n",
        "    float host_input[] = {3,1,7,0,4,1,6,3};\r\n",
        "    float host_output[SECTION_SIZE];\r\n",
        "    float *device_input, *device_output;\r\n",
        "\r\n",
        "    size_t mem_size = SECTION_SIZE * sizeof(float);\r\n",
        "\r\n",
        "    cudaMalloc((void **) &device_input,mem_size);\r\n",
        "    cudaMalloc((void **) &device_output,mem_size);\r\n",
        "\r\n",
        "    cudaMemcpy(device_input,host_input,mem_size,cudaMemcpyHostToDevice);\r\n",
        "    \r\n",
        "    dim3 dim_block(32);\r\n",
        "    dim3 dim_grid(32);\r\n",
        "\r\n",
        "    brent_kung_scan_kernel<<<dim_grid,dim_block>>>(device_input,device_output,SECTION_SIZE);\r\n",
        "\r\n",
        "    cudaMemcpy(host_output,device_output,mem_size,cudaMemcpyDeviceToHost);\r\n",
        "\r\n",
        "    printf(\"input:\");\r\n",
        "    print_array(host_input,SECTION_SIZE);\r\n",
        "    \r\n",
        "    printf(\"\\n output:\");\r\n",
        "    print_array(host_output,SECTION_SIZE);\r\n",
        "    \r\n",
        "    cudaFree(device_input);\r\n",
        "    cudaFree(device_output);\r\n",
        "    return 0;\r\n",
        "}\r\n",
        "\r\n",
        "void print_array(float *array, int width){\r\n",
        "        for(int i = 0; i < width; i++)\r\n",
        "        printf(\"%d\\t\", (int)array[i]);\r\n",
        "    \r\n",
        "  printf(\"\\n\");\r\n",
        "}\r\n",
        "\r\n",
        "\r\n",
        "__global__ void brent_kung_scan_kernel(float* input,float* output, int input_size)\r\n",
        "{\r\n",
        "    __shared__ float ans[SECTION_SIZE];\r\n",
        "    int i = 2 * blockIdx.x * blockDim.x + threadIdx.x;\r\n",
        "    int index =0;\r\n",
        " \r\n",
        "    if (i < input_size)\r\n",
        "       ans[threadIdx.x] = input[i];\r\n",
        " \r\n",
        "   if ( i + blockDim.x < input_size)\r\n",
        "       ans[threadIdx.x + blockDim.x] = input[i + blockDim.x];\r\n",
        " \r\n",
        "   for (unsigned int stride = 1; stride <= blockDim.x; stride *= 2){\r\n",
        "       __syncthreads();\r\n",
        "      index = (threadIdx.x + 1) * 2 * stride - 1;\r\n",
        "       if(index < SECTION_SIZE)\r\n",
        "           ans[index] += ans[index - stride];\r\n",
        "   }\r\n",
        " \r\n",
        "   for (int stride = SECTION_SIZE/4; stride > 0; stride /= 2){\r\n",
        "       __syncthreads();\r\n",
        "       index = (threadIdx.x + 1) * stride * 2 - 1;\r\n",
        "       if ( index + stride < SECTION_SIZE)\r\n",
        "          ans[index + stride] += ans[index];\r\n",
        "   }\r\n",
        "\r\n",
        "    __syncthreads();\r\n",
        "\r\n",
        "    if (i < input_size)\r\n",
        "       output[i] = ans[threadIdx.x];\r\n",
        " \r\n",
        "    if (i + blockDim.x < input_size)\r\n",
        "       output[ i + blockDim.x] = ans[threadIdx.x + blockDim.x];  \r\n",
        "   }\r\n"
      ],
      "execution_count": 4,
      "outputs": [
        {
          "output_type": "stream",
          "text": [
            "input:3\t1\t7\t0\t4\t1\t6\t3\t\n",
            "\n",
            " output:3\t4\t11\t11\t15\t16\t22\t25\t\n",
            "\n"
          ],
          "name": "stdout"
        }
      ]
    }
  ]
}
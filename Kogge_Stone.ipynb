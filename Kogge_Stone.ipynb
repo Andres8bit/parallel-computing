{
  "nbformat": 4,
  "nbformat_minor": 0,
  "metadata": {
    "colab": {
      "name": "Kogge_Stone.ipynb",
      "provenance": [],
      "collapsed_sections": [],
      "authorship_tag": "ABX9TyM7fgqINRGPgi1BAbKfoetd",
      "include_colab_link": true
    },
    "kernelspec": {
      "name": "python3",
      "display_name": "Python 3"
    },
    "accelerator": "GPU"
  },
  "cells": [
    {
      "cell_type": "markdown",
      "metadata": {
        "id": "view-in-github",
        "colab_type": "text"
      },
      "source": [
        "<a href=\"https://colab.research.google.com/github/Andres8bit/parallel-computing/blob/main/Kogge_Stone.ipynb\" target=\"_parent\"><img src=\"https://colab.research.google.com/assets/colab-badge.svg\" alt=\"Open In Colab\"/></a>"
      ]
    },
    {
      "cell_type": "code",
      "metadata": {
        "colab": {
          "base_uri": "https://localhost:8080/"
        },
        "id": "JXzmQFOShobz",
        "outputId": "c21e3066-75dc-4c5a-e6e3-3719b40653b1"
      },
      "source": [
        "!pip install git+git://github.com/andreinechaev/nvcc4jupyter.git"
      ],
      "execution_count": 2,
      "outputs": [
        {
          "output_type": "stream",
          "text": [
            "Collecting git+git://github.com/andreinechaev/nvcc4jupyter.git\n",
            "  Cloning git://github.com/andreinechaev/nvcc4jupyter.git to /tmp/pip-req-build-3ddgo6am\n",
            "  Running command git clone -q git://github.com/andreinechaev/nvcc4jupyter.git /tmp/pip-req-build-3ddgo6am\n",
            "Building wheels for collected packages: NVCCPlugin\n",
            "  Building wheel for NVCCPlugin (setup.py) ... \u001b[?25l\u001b[?25hdone\n",
            "  Created wheel for NVCCPlugin: filename=NVCCPlugin-0.0.2-cp36-none-any.whl size=4308 sha256=a079b64fa67a58d661c15de0665613f6f322d9b742216c1248cdca93c0778053\n",
            "  Stored in directory: /tmp/pip-ephem-wheel-cache-3dsfn35s/wheels/10/c2/05/ca241da37bff77d60d31a9174f988109c61ba989e4d4650516\n",
            "Successfully built NVCCPlugin\n",
            "Installing collected packages: NVCCPlugin\n",
            "Successfully installed NVCCPlugin-0.0.2\n"
          ],
          "name": "stdout"
        }
      ]
    },
    {
      "cell_type": "code",
      "metadata": {
        "colab": {
          "base_uri": "https://localhost:8080/"
        },
        "id": "eSK81XJ3h7dH",
        "outputId": "2dd011f5-f372-47db-d81e-b0c014bdcc5c"
      },
      "source": [
        "%load_ext nvcc_plugin"
      ],
      "execution_count": 3,
      "outputs": [
        {
          "output_type": "stream",
          "text": [
            "created output directory at /content/src\n",
            "Out bin /content/result.out\n"
          ],
          "name": "stdout"
        }
      ]
    },
    {
      "cell_type": "code",
      "metadata": {
        "colab": {
          "base_uri": "https://localhost:8080/"
        },
        "id": "KoAasnQwiS30",
        "outputId": "86490743-ab4b-4983-9bf1-008e97359584"
      },
      "source": [
        "# Implements basic Kogge-Stone prefix sum algorithm originally designed for use\r\n",
        "# in paralle adders\r\n",
        "\r\n",
        "%%cu\r\n",
        "#include <iostream>\r\n",
        "#define SECTION_SIZE 8\r\n",
        "__global__ void kogge_stone_scan_kernel(float* x, float* y, int input_size);\r\n",
        "\r\n",
        "void print_array(float *array, int width);\r\n",
        "\r\n",
        "int main(){\r\n",
        "    float host_input[] = {3,1,7,0,4,1,6,3};\r\n",
        "    float host_output[SECTION_SIZE];\r\n",
        "    float *device_input, *device_output;\r\n",
        "\r\n",
        "    size_t mem_size = SECTION_SIZE * sizeof(float);\r\n",
        "\r\n",
        "    cudaMalloc((void **) &device_input,mem_size);\r\n",
        "    cudaMalloc((void **) &device_output,mem_size);\r\n",
        "\r\n",
        "    cudaMemcpy(device_input,host_input,mem_size,cudaMemcpyHostToDevice);\r\n",
        "    \r\n",
        "    dim3 dim_block(32);\r\n",
        "    dim3 dim_grid(32);\r\n",
        "\r\n",
        "    kogge_stone_scan_kernel<<<dim_grid,dim_block>>>(device_input,device_output,SECTION_SIZE);\r\n",
        "\r\n",
        "    cudaMemcpy(host_output,device_output,mem_size,cudaMemcpyDeviceToHost);\r\n",
        "\r\n",
        "    printf(\"input:\");\r\n",
        "    print_array(host_input,SECTION_SIZE);\r\n",
        "    \r\n",
        "    printf(\"\\n output:\");\r\n",
        "    print_array(host_output,SECTION_SIZE);\r\n",
        "    \r\n",
        "    cudaFree(device_input);\r\n",
        "    cudaFree(device_output);\r\n",
        "    return 0;\r\n",
        "}\r\n",
        "\r\n",
        "void print_array(float *array, int width){\r\n",
        "        for(int i = 0; i < width; i++)\r\n",
        "        printf(\"%d\\t\", (int)array[i]);\r\n",
        "    \r\n",
        "  printf(\"\\n\");\r\n",
        "}\r\n",
        "__global__ void kogge_stone_scan_kernel(float* x, float* y, int input_size){\r\n",
        "    __shared__ float ans[SECTION_SIZE];\r\n",
        "\r\n",
        "    int i = blockIdx.x * blockDim.x + threadIdx.x;\r\n",
        "\r\n",
        "    if(i < input_size)\r\n",
        "       ans[threadIdx.x] = x[i];\r\n",
        "    for (unsigned int stride = 1; stride < blockDim.x; stride *= 2){\r\n",
        "        __syncthreads();\r\n",
        "        if (threadIdx.x >= stride)\r\n",
        "          ans[threadIdx.x] += ans[threadIdx.x - stride];\r\n",
        "    }\r\n",
        "\r\n",
        "    y[i] = ans[threadIdx.x];\r\n",
        "}"
      ],
      "execution_count": 4,
      "outputs": [
        {
          "output_type": "stream",
          "text": [
            "input:3\t1\t7\t0\t4\t1\t6\t3\t\n",
            "\n",
            " output:3\t4\t11\t11\t15\t16\t22\t25\t\n",
            "\n"
          ],
          "name": "stdout"
        }
      ]
    }
  ]
}